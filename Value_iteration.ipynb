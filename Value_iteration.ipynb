{
  "nbformat": 4,
  "nbformat_minor": 0,
  "metadata": {
    "colab": {
      "provenance": []
    },
    "kernelspec": {
      "name": "python3",
      "display_name": "Python 3"
    },
    "language_info": {
      "name": "python"
    }
  },
  "cells": [
    {
      "cell_type": "code",
      "execution_count": null,
      "metadata": {
        "id": "yngT1wS6p7pH",
        "colab": {
          "base_uri": "https://localhost:8080/"
        },
        "outputId": "25ca8d65-7bfd-4cee-cfc1-377131d3795b"
      },
      "outputs": [
        {
          "output_type": "stream",
          "name": "stdout",
          "text": [
            "Optimal policy:\n",
            "[[0. 0. 0. 0. 0. 0. 0. 0. 0. 0. 0.]\n",
            " [0. 1. 1. 1. 1. 0. 3. 3. 3. 3. 0.]\n",
            " [0. 0. 0. 0. 0. 0. 0. 0. 0. 0. 0.]\n",
            " [0. 0. 3. 1. 1. 1. 1. 0. 0. 0. 0.]\n",
            " [0. 0. 0. 0. 0. 0. 0. 0. 0. 0. 0.]\n",
            " [1. 1. 1. 1. 1. 1. 1. 0. 3. 3. 3.]\n",
            " [0. 0. 0. 0. 0. 0. 0. 0. 0. 0. 0.]\n",
            " [0. 1. 1. 1. 1. 0. 3. 3. 3. 3. 0.]\n",
            " [0. 0. 0. 0. 0. 0. 0. 0. 0. 0. 0.]\n",
            " [1. 1. 1. 0. 3. 1. 1. 0. 3. 3. 3.]\n",
            " [0. 0. 0. 0. 0. 0. 0. 0. 0. 0. 0.]]\n",
            "Iterations:\n",
            "27\n"
          ]
        }
      ],
      "source": [
        "import numpy as np\n",
        "\n",
        "environment_rows = 11\n",
        "environment_columns = 11\n",
        "actions = ['up', 'right', 'down', 'left']\n",
        "# Create 2D array to hold rewards for each state\n",
        "\n",
        "rewards = np.full((environment_rows, environment_columns), -100.)\n",
        "rewards[0, 5] = 100.\n",
        "\n",
        "aisles = {}\n",
        "aisles[1] = [i for i in range(1, 10)]\n",
        "aisles[2] = [1, 7, 9]\n",
        "aisles[3] = [i for i in range(1, 8)]\n",
        "aisles[3].append(9)\n",
        "aisles[4] = [3, 7]\n",
        "aisles[5] = [i for i in range(11)]\n",
        "aisles[6] = [5]\n",
        "aisles[7] = [i for i in range(1, 10)]\n",
        "aisles[8] = [3, 7]\n",
        "aisles[9] = [i for i in range(11)]\n",
        "\n",
        "for row_index in range(1, 10):\n",
        "    for column_index in aisles[row_index]:\n",
        "        rewards[row_index, column_index] = -1\n",
        "\n",
        "# initialize V value at each state\n",
        "V = np.zeros((environment_rows, environment_columns, 1))\n",
        "V[:,:,0] = rewards\n",
        "\n",
        "# initialize policy at each state\n",
        "optimal_policy = np.zeros((environment_rows, environment_columns, 1))\n",
        "\n",
        "#define a function that determines if the specified location is a terminal state\n",
        "def is_terminal_state(current_row_index, current_column_index):\n",
        "    if rewards[current_row_index, current_column_index] == -1.:\n",
        "        return False\n",
        "    else:\n",
        "        return True\n",
        "\n",
        "#define a function that will get the next location based on the chosen action\n",
        "def get_next_location(current_row_index, current_column_index, action_index):\n",
        "    new_row_index = current_row_index\n",
        "    new_column_index = current_column_index\n",
        "    if actions[action_index] == 'up' and current_row_index > 0:\n",
        "        new_row_index -= 1\n",
        "    elif actions[action_index] == 'right' and current_column_index < environment_columns - 1:\n",
        "        new_column_index += 1\n",
        "    elif actions[action_index] == 'down' and current_row_index < environment_rows - 1:\n",
        "        new_row_index += 1\n",
        "    elif actions[action_index] == 'left' and current_column_index > 0:\n",
        "        new_column_index -= 1\n",
        "    return new_row_index, new_column_index\n",
        "\n",
        "epsilon = 0.9 # percentage of time to take the best action (instead of a random action)\n",
        "pr_best = epsilon + (1-epsilon)/4 # probability of moving to the best adjacent location\n",
        "pr_others = (1-epsilon)/4 # probability of moving to the adjacent locations other than the best\n",
        "gamma = 0.9 # discount factor\n",
        "\n",
        "# Implement value iteration using the following method\n",
        "def value_iterations(V):\n",
        "    number_iterations = 0\n",
        "    while True:\n",
        "        # Store current values of states\n",
        "        oldV = V.copy()\n",
        "        # Iterate and update value and optimal policy of each state\n",
        "        for row_index in range(0,11):\n",
        "            for column_index in range(0,11):\n",
        "                if not is_terminal_state(row_index, column_index):\n",
        "                    Q = {}\n",
        "                    # Find value of taking each action a in current state s = (row_index, column_index) and store it in Q\n",
        "                    for a in range(0,4):\n",
        "                        new_row_index, new_column_index = get_next_location(row_index, column_index, a)\n",
        "\n",
        "                        #find out the other 3 non-favorable directions\n",
        "                        direction_index = np.array([0,1,2,3])\n",
        "                        other_direction_index = np.delete(direction_index, np.where(direction_index == a))\n",
        "                        other_row_index_1, other_column_index_1 = get_next_location(row_index, column_index, other_direction_index[0])\n",
        "                        other_row_index_2, other_column_index_2 = get_next_location(row_index, column_index, other_direction_index[1])\n",
        "                        other_row_index_3, other_column_index_3 = get_next_location(row_index, column_index, other_direction_index[2])\n",
        "\n",
        "                        # Compute Q[a] for the current state s = (row_index, column_index) and action a.\n",
        "                        # Here, Q[a] = R[s] + gamma*(ΣP(s,a,s')*V(s'))\n",
        "                        # R[s] is the reward at current state s\n",
        "                        # P(s,a,s') is the probability of moving to new state s' = (row_index',column_index') given state s and action a\n",
        "                        # V(s') is the current value of new state s'. Here V(s') is given by oldV[row_index',column_index',0]\n",
        "                        Q[a] = rewards[new_row_index, new_column_index] + gamma * (pr_best * oldV[new_row_index, new_column_index, 0] + pr_others * (oldV[other_row_index_1, other_column_index_1, 0] + oldV[other_row_index_2, other_column_index_2, 0] + oldV[other_row_index_3, other_column_index_3, 0]))\n",
        "\n",
        "                    # Update V(s) with the optimal value, given by the maximum value stored in Q where s is current state\n",
        "                    # Update optimal_policy(s) with the optimal action, given by the index of the maximum value stored in Q\n",
        "                    V[row_index,column_index,0] = max(Q.values())\n",
        "                    optimal_policy[row_index,column_index,0] = max(Q, key=Q.get)\n",
        "        number_iterations = number_iterations + 1\n",
        "        if (abs(oldV[:,:,0] - V[:,:,0])<0.01).all():\n",
        "            break\n",
        "    return V, optimal_policy, number_iterations\n",
        "\n",
        "# Obtain optimal value and policy\n",
        "V, optimal_policy, number_iterations = value_iterations(V)\n",
        "# Print optimal policy and number of iterations\n",
        "optimal_policy = optimal_policy[:,:,0]\n",
        "print('Optimal policy:')\n",
        "print(optimal_policy)\n",
        "print('Iterations:')\n",
        "print(number_iterations)\n"
      ]
    },
    {
      "cell_type": "code",
      "source": [],
      "metadata": {
        "id": "zaPbPL-ZwBI2"
      },
      "execution_count": null,
      "outputs": []
    },
    {
      "cell_type": "code",
      "source": [],
      "metadata": {
        "id": "wzVObM2K1kWZ"
      },
      "execution_count": null,
      "outputs": []
    }
  ]
}